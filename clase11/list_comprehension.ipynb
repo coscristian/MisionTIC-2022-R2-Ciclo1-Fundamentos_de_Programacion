{
 "cells": [
  {
   "cell_type": "markdown",
   "metadata": {},
   "source": [
    "# List Comprehension\n"
   ]
  },
  {
   "cell_type": "markdown",
   "metadata": {},
   "source": [
    "Lista: `[<dato> <recorrido for> <filtro if>]`  \n",
    "Tupla: `tuple(<dato> <recorrido for> <filtro if>)`  \n",
    "Conjunto: `{<dato> <recorrido for> <filtro if>}`  \n",
    "Diccionario: `{<key>:<value> <recorrido for> <filtro if>}`  "
   ]
  },
  {
   "cell_type": "code",
   "execution_count": 3,
   "metadata": {},
   "outputs": [
    {
     "name": "stdout",
     "output_type": "stream",
     "text": [
      "['manzana', 'banano', 'cereza', 'mango']\n"
     ]
    }
   ],
   "source": [
    "#Imprime todas las frutas que tengan la letra a en su nombre\n",
    "#Lista --> [dato - recorrido for - filtro if]\n",
    "frutas = [\"manzana\", \"banano\", \"cereza\", \"kiwi\", \"mango\"]\n",
    "lista = [x for x in frutas if \"a\" in x]\n",
    "\n",
    "print(lista)"
   ]
  },
  {
   "cell_type": "code",
   "execution_count": 2,
   "metadata": {},
   "outputs": [
    {
     "name": "stdout",
     "output_type": "stream",
     "text": [
      "['banano', 'cereza', 'kiwi', 'mango']\n"
     ]
    }
   ],
   "source": [
    "#Imprime todas las frutas que no sean manzana\n",
    "#Lista --> [dato - recorrido for - filtro if]\n",
    "frutas = [\"manzana\", \"banano\", \"cereza\", \"kiwi\", \"mango\"]\n",
    "lista = [x for x in frutas if x != \"manzana\"] \n",
    "\n",
    "print(lista)"
   ]
  },
  {
   "cell_type": "code",
   "execution_count": 4,
   "metadata": {},
   "outputs": [
    {
     "name": "stdout",
     "output_type": "stream",
     "text": [
      "[0, 1, 2, 3, 4]\n"
     ]
    }
   ],
   "source": [
    "#Imprime los números menores que 5 iniciando desde cero --> 0,1,2,3,4\n",
    "#Lista --> [dato - recorrido for - filtro if]\n",
    "lista = [x for x in range(10) if x < 5] \n",
    "\n",
    "print(lista)"
   ]
  },
  {
   "cell_type": "code",
   "execution_count": 5,
   "metadata": {},
   "outputs": [
    {
     "name": "stdout",
     "output_type": "stream",
     "text": [
      "['MANZANA', 'BANANO', 'CEREZA', 'KIWI', 'MANGO']\n"
     ]
    }
   ],
   "source": [
    "#Imprime todas las frutas de la lista y las agrega a una lista nueva convirtiendolas en mayusculas\n",
    "#Lista --> [dato -recorrido for -filtro if]\n",
    "frutas = [\"manzana\", \"banano\", \"cereza\", \"kiwi\", \"mango\"]\n",
    "lista = [x.upper() for x in frutas] \n",
    "\n",
    "print(lista)"
   ]
  },
  {
   "cell_type": "code",
   "execution_count": 6,
   "metadata": {},
   "outputs": [
    {
     "name": "stdout",
     "output_type": "stream",
     "text": [
      "[30, 50, 70, 50, 70, 90, 70, 90, 110]\n"
     ]
    }
   ],
   "source": [
    "#Imprime una lista con nueve valores, cada uno de los cuales es la suma de cada elemento de la lista inicial con todos y cada uno de los elementos de la segunda lista\n",
    "#Resultado --> [30, 50, 70, 50, 70, 110, 70, 90, 110]\n",
    "#Lista --> [dato - recorrido for - filtro if]\n",
    "lista = [ x + y for x in [10,30,50] for y in [20,40,60]]\n",
    "\n",
    "print(lista)"
   ]
  },
  {
   "cell_type": "code",
   "execution_count": 7,
   "metadata": {},
   "outputs": [
    {
     "name": "stdout",
     "output_type": "stream",
     "text": [
      "['manzana', 'naranja', 'cereza', 'kiwi', 'mango']\n"
     ]
    }
   ],
   "source": [
    "#Imprime una lista nueva reemplazando las frutas de banano por naranja\n",
    "#Resultado --> ['manzana', 'naranja', 'cereza', 'kiwi', 'mango']\n",
    "#Lista --> [dato - recorrido for - filtro if]\n",
    "frutas = [\"manzana\", \"banano\", \"cereza\", \"kiwi\", \"mango\"]\n",
    "lista = [x if x != \"banano\" else \"naranja\" for x in frutas] \n",
    "\n",
    "print(lista)"
   ]
  },
  {
   "cell_type": "markdown",
   "metadata": {},
   "source": [
    "**Ojo**: condicional en 1 linea:  \n",
    "`<valor verdadero> if <condicion> else <valor falso>`"
   ]
  },
  {
   "cell_type": "code",
   "execution_count": 8,
   "metadata": {},
   "outputs": [
    {
     "name": "stdout",
     "output_type": "stream",
     "text": [
      "['naranja', 'naranja', 'naranja', 'kiwi', 'naranja']\n"
     ]
    }
   ],
   "source": [
    "#Imprime una lista reemplazando las frutas que tengan la letra a por una naranja\n",
    "#Condicional de una linea --> valor verdadero - if (condicion) - else (valor falso)\n",
    "frutas = [\"manzana\", \"banano\", \"cereza\", \"kiwi\", \"mango\"]\n",
    "lista = [x if 'a' not in x else \"naranja\" for x in frutas] \n",
    "\n",
    "print(lista)"
   ]
  },
  {
   "cell_type": "markdown",
   "metadata": {},
   "source": [
    "## Otros ejemplos\n"
   ]
  },
  {
   "cell_type": "code",
   "execution_count": 14,
   "metadata": {},
   "outputs": [
    {
     "name": "stdout",
     "output_type": "stream",
     "text": [
      "['E']\n"
     ]
    }
   ],
   "source": [
    "#Imprime una lista con las vocales que estén en minuscula en la cadena oracion\n",
    "oracion = 'El cohete se devuelve desde marte'\n",
    "vocales = [i for i in oracion if i in 'aeiou']\n",
    "\n",
    "print(vocales)"
   ]
  },
  {
   "cell_type": "code",
   "execution_count": 17,
   "metadata": {},
   "outputs": [
    {
     "name": "stdout",
     "output_type": "stream",
     "text": [
      "['l', 'c', 'h', 't', 's', 'D', 'v', 'l', 'v', 'd', 's', 'd', 'm', 'r', 't']\n"
     ]
    }
   ],
   "source": [
    "#Imprime todas las consonantes minusculas y mayusculas de la oracion\n",
    "def es_consonante(letra: str):\n",
    "    vocales = 'aeiou'\n",
    "    return letra.isalpha() and letra.lower() not in vocales\n",
    "\n",
    "oracion = 'El cohete se Devuelve desde marte'\n",
    "consonantes = [i for i in oracion if es_consonante(i)]\n",
    "print(consonantes)"
   ]
  },
  {
   "cell_type": "code",
   "execution_count": 18,
   "metadata": {},
   "outputs": [
    {
     "name": "stdout",
     "output_type": "stream",
     "text": [
      "[1250, 0, 10220, 3780, 0, 1160]\n"
     ]
    }
   ],
   "source": [
    "#Imprime en una lista todos los precios que sean positivos, si son negativos o iguales a cero se imprime un cero\n",
    "precios_originales = [1250, -9450, 10220, 3780, -5920, 1160]\n",
    "precios = [i if i > 0 else 0 for i in precios_originales]\n",
    "\n",
    "print(precios)"
   ]
  },
  {
   "cell_type": "markdown",
   "metadata": {},
   "source": [
    "### Con conjuntos"
   ]
  },
  {
   "cell_type": "code",
   "execution_count": 28,
   "metadata": {},
   "outputs": [
    {
     "name": "stdout",
     "output_type": "stream",
     "text": [
      "{'o', 'a', 'e', 'u'}\n"
     ]
    }
   ],
   "source": [
    "#Imprime un conjunto con las vocales de la oración (Aquí no se repiten)\n",
    "oracion = 'El cohete se devuelve desde marte'\n",
    "vocales_usadas = {i.lower() for i in oracion if i.lower() in 'aeiou'}\n",
    "\n",
    "print(vocales_usadas)"
   ]
  },
  {
   "cell_type": "markdown",
   "metadata": {},
   "source": [
    "### Con diccionarios"
   ]
  },
  {
   "cell_type": "code",
   "execution_count": 29,
   "metadata": {},
   "outputs": [
    {
     "name": "stdout",
     "output_type": "stream",
     "text": [
      "{0: 0, 1: 1, 2: 4, 3: 9, 4: 16, 5: 25, 6: 36, 7: 49, 8: 64, 9: 81}\n"
     ]
    }
   ],
   "source": [
    "#Imprime un diccionario en donde la key serán los numero enteros desde cero hasta nueve y el value será el cuadrado de la key\n",
    "cuadrados = { i: i ** 2 for i in range(10)}\n",
    "\n",
    "print(cuadrados)"
   ]
  },
  {
   "cell_type": "markdown",
   "metadata": {},
   "source": [
    "### Con tuplas"
   ]
  },
  {
   "cell_type": "code",
   "execution_count": 32,
   "metadata": {},
   "outputs": [
    {
     "name": "stdout",
     "output_type": "stream",
     "text": [
      "('0', '1', '2', '3', '4', '5', '6', '7', '8', '9')\n"
     ]
    }
   ],
   "source": [
    "#Imprime una tupla con los numeros del cero al nueve pero de tipo string\n",
    "numeros = tuple(str(i) for i in range(10))\n",
    "\n",
    "print(numeros)"
   ]
  }
 ],
 "metadata": {
  "interpreter": {
   "hash": "f9f85f796d01129d0dd105a088854619f454435301f6ffec2fea96ecbd9be4ac"
  },
  "kernelspec": {
   "display_name": "Python 3.9.13 64-bit",
   "language": "python",
   "name": "python3"
  },
  "language_info": {
   "codemirror_mode": {
    "name": "ipython",
    "version": 3
   },
   "file_extension": ".py",
   "mimetype": "text/x-python",
   "name": "python",
   "nbconvert_exporter": "python",
   "pygments_lexer": "ipython3",
   "version": "3.9.13"
  },
  "orig_nbformat": 4
 },
 "nbformat": 4,
 "nbformat_minor": 2
}
